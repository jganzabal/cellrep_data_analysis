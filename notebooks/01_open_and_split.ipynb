{
 "cells": [
  {
   "cell_type": "code",
   "execution_count": 1,
   "metadata": {},
   "outputs": [],
   "source": [
    "%load_ext autoreload\n",
    "%autoreload 2"
   ]
  },
  {
   "cell_type": "code",
   "execution_count": 2,
   "metadata": {},
   "outputs": [],
   "source": [
    "import pandas as pd\n",
    "import re\n",
    "import scanpy as sc\n",
    "from scipy.sparse import csr_matrix\n",
    "from IPython.display import Markdown as md, display\n",
    "from helper import add_top_column"
   ]
  },
  {
   "cell_type": "code",
   "execution_count": null,
   "metadata": {},
   "outputs": [],
   "source": []
  },
  {
   "cell_type": "markdown",
   "metadata": {},
   "source": [
    "### Paper\n",
    "# CRISPR activation and interference screens decode stimulation responses in primary human T cells\n",
    "https://www.science.org/doi/10.1126/science.abj4008#body-ref-R56-1"
   ]
  },
  {
   "cell_type": "markdown",
   "metadata": {},
   "source": [
    "# Data\n",
    "- https://www.ncbi.nlm.nih.gov/geo/query/acc.cgi?acc=GSE190604\n",
    "- https://www.ncbi.nlm.nih.gov/geo/query/acc.cgi?acc=GSE174292\n",
    "- https://www.ncbi.nlm.nih.gov/geo/query/acc.cgi?acc=GSE190846\n",
    "- https://zenodo.org/records/5784651 (R Repository with results)"
   ]
  },
  {
   "cell_type": "markdown",
   "metadata": {},
   "source": [
    "![alt text](images/experiment.png \"Title\")"
   ]
  },
  {
   "cell_type": "markdown",
   "metadata": {},
   "source": [
    "We performed CRISPRa Perturb-seq characterization of regulators of stimulation responses in ~56,000 primary human T cells, targeting 70 hits and controls from our genome-wide CRISPRa cytokine screens (Fig. 4, A and B, and fig. S17, A to C). First, we confirmed that sgRNAs led to significant increases in the expression of their target genes (fig. S17D). Next, uniform manifold approximation and projection (UMAP) dimensionality reduction revealed discrete separation of the resting and restimulated cells (fig. S17E) and showed relatively even distribution of cells from two donors (Fig. 4C and fig. S17F). Gene signatures allowed us to resolve most T cells as either CD4+ or CD8+ (Fig. 4D and fig. S17, G and H). Thus, we generated a high-quality CRISPRa Perturb-seq dataset."
   ]
  },
  {
   "cell_type": "markdown",
   "metadata": {},
   "source": [
    "### Data experimento:\n",
    "- ~150 sgRNA\n",
    "- ~ 70 Target Gene\n",
    "- ~56,000 primary human T cells"
   ]
  },
  {
   "cell_type": "markdown",
   "metadata": {},
   "source": [
    "# Data Loading and preprocess"
   ]
  },
  {
   "cell_type": "markdown",
   "metadata": {},
   "source": [
    "### Raw Data (scRNA-seq)"
   ]
  },
  {
   "cell_type": "code",
   "execution_count": 3,
   "metadata": {},
   "outputs": [],
   "source": [
    "adata = sc.read_10x_mtx(\n",
    "    '../data/GSE190604/',\n",
    "    prefix='GSE190604_',\n",
    "    cache=True,\n",
    "    gex_only=False, # Only gene expression\n",
    "    # make_unique=True\n",
    ")"
   ]
  },
  {
   "cell_type": "code",
   "execution_count": 4,
   "metadata": {},
   "outputs": [
    {
     "data": {
      "text/html": [
       "<div>\n",
       "<style scoped>\n",
       "    .dataframe tbody tr th:only-of-type {\n",
       "        vertical-align: middle;\n",
       "    }\n",
       "\n",
       "    .dataframe tbody tr th {\n",
       "        vertical-align: top;\n",
       "    }\n",
       "\n",
       "    .dataframe thead th {\n",
       "        text-align: right;\n",
       "    }\n",
       "</style>\n",
       "<table border=\"1\" class=\"dataframe\">\n",
       "  <thead>\n",
       "    <tr style=\"text-align: right;\">\n",
       "      <th></th>\n",
       "    </tr>\n",
       "  </thead>\n",
       "  <tbody>\n",
       "    <tr>\n",
       "      <th>AAACCCACAACAAGAT-1</th>\n",
       "    </tr>\n",
       "    <tr>\n",
       "      <th>AAACCCACAACGGCTC-1</th>\n",
       "    </tr>\n",
       "    <tr>\n",
       "      <th>AAACCCACACAGAAGC-1</th>\n",
       "    </tr>\n",
       "    <tr>\n",
       "      <th>AAACCCACACCCTGTT-1</th>\n",
       "    </tr>\n",
       "    <tr>\n",
       "      <th>AAACCCACACTATGTG-1</th>\n",
       "    </tr>\n",
       "    <tr>\n",
       "      <th>...</th>\n",
       "    </tr>\n",
       "    <tr>\n",
       "      <th>TTTGTTGGTCCAGCCA-8</th>\n",
       "    </tr>\n",
       "    <tr>\n",
       "      <th>TTTGTTGGTCCCACGA-8</th>\n",
       "    </tr>\n",
       "    <tr>\n",
       "      <th>TTTGTTGGTGAGTGAC-8</th>\n",
       "    </tr>\n",
       "    <tr>\n",
       "      <th>TTTGTTGGTGCAAGAC-8</th>\n",
       "    </tr>\n",
       "    <tr>\n",
       "      <th>TTTGTTGTCTTCGCTG-8</th>\n",
       "    </tr>\n",
       "  </tbody>\n",
       "</table>\n",
       "<p>103805 rows × 0 columns</p>\n",
       "</div>"
      ],
      "text/plain": [
       "Empty DataFrame\n",
       "Columns: []\n",
       "Index: [AAACCCACAACAAGAT-1, AAACCCACAACGGCTC-1, AAACCCACACAGAAGC-1, AAACCCACACCCTGTT-1, AAACCCACACTATGTG-1, AAACCCAGTACAGGTG-1, AAACCCAGTATGAGAT-1, AAACCCAGTTACGATC-1, AAACCCATCGGCATTA-1, AAACCCATCTACCTTA-1, AAACCCATCTGTGCAA-1, AAACGAAAGAACTCCT-1, AAACGAAAGCATGCAG-1, AAACGAAAGCTATCCA-1, AAACGAAAGGAGTATT-1, AAACGAAAGTCGCCCA-1, AAACGAAAGTGGACTG-1, AAACGAACAACTGCCG-1, AAACGAACAAGTTTGC-1, AAACGAACAGAAATCA-1, AAACGAACAGCTTCGG-1, AAACGAACAGTCGGTC-1, AAACGAACAGTTAAAG-1, AAACGAAGTCACTTAG-1, AAACGAAGTCTCGCGA-1, AAACGAAGTGTCCTAA-1, AAACGAAGTTCATCTT-1, AAACGAATCAAGCCAT-1, AAACGCTAGAAGTCTA-1, AAACGCTAGAGCATTA-1, AAACGCTAGCCACAAG-1, AAACGCTAGTACAGCG-1, AAACGCTAGTACGAGC-1, AAACGCTAGTGGCGAT-1, AAACGCTAGTTGCATC-1, AAACGCTCAGCGTACC-1, AAACGCTCATCAGCTA-1, AAACGCTGTCACGACC-1, AAACGCTGTGTAACGG-1, AAACGCTGTTGATGTC-1, AAACGCTTCCAAGCAT-1, AAACGCTTCGGTAGGA-1, AAAGAACAGCCTCTTC-1, AAAGAACAGCCTGTGC-1, AAAGAACAGCTCCGAC-1, AAAGAACAGGACTATA-1, AAAGAACAGTGCAACG-1, AAAGAACAGTTGTACC-1, AAAGAACCAGTCTCTC-1, AAAGAACCATATCTCT-1, AAAGAACGTCGTGGTC-1, AAAGAACGTTACGATC-1, AAAGAACTCAACACCA-1, AAAGAACTCAACGTGT-1, AAAGAACTCAGTAGGG-1, AAAGAACTCCACAGCG-1, AAAGAACTCTATCGTT-1, AAAGGATAGAGAACCC-1, AAAGGATAGATGAAGG-1, AAAGGATAGCATCAAA-1, AAAGGATAGGTTGCCC-1, AAAGGATCACGCACCA-1, AAAGGATCAGTTGTCA-1, AAAGGATCAGTTGTTG-1, AAAGGATGTAGGACCA-1, AAAGGATGTATGACAA-1, AAAGGATGTGGACCAA-1, AAAGGATGTTACGTAC-1, AAAGGATTCAGCGCAC-1, AAAGGATTCTAACGGT-1, AAAGGATTCTAGTGTG-1, AAAGGGCAGATTGGGC-1, AAAGGGCCAACCACAT-1, AAAGGGCCAAGACTGG-1, AAAGGGCCAGAGTGTG-1, AAAGGGCCAGGACTTT-1, AAAGGGCCAGGGTCTC-1, AAAGGGCCAGTGACCC-1, AAAGGGCCATCAACCA-1, AAAGGGCCATGCAGCC-1, AAAGGGCGTCCGAAGA-1, AAAGGGCGTCTCGCGA-1, AAAGGGCGTGAACGGT-1, AAAGGGCTCGCTTGCT-1, AAAGGGCTCGGTAGAG-1, AAAGGGCTCTGCATGA-1, AAAGGTAAGGGCCCTT-1, AAAGGTACATACAGAA-1, AAAGGTACATTGTCGA-1, AAAGGTAGTAACATAG-1, AAAGGTAGTACGACTT-1, AAAGGTAGTCACCTTC-1, AAAGGTAGTCACTGAT-1, AAAGGTAGTGACTGAG-1, AAAGTCCAGAACTGAT-1, AAAGTCCAGGGCAAGG-1, AAAGTCCAGGGCTGAT-1, AAAGTCCCACGACCTG-1, AAAGTCCCACGATTCA-1, AAAGTCCCAGACCTAT-1, ...]\n",
       "\n",
       "[103805 rows x 0 columns]"
      ]
     },
     "execution_count": 4,
     "metadata": {},
     "output_type": "execute_result"
    }
   ],
   "source": [
    "# Cell Barcodes\n",
    "adata.obs"
   ]
  },
  {
   "cell_type": "code",
   "execution_count": 5,
   "metadata": {},
   "outputs": [
    {
     "data": {
      "text/markdown": [
       "#### Raw data has 36755 genes and 103805 cells"
      ],
      "text/plain": [
       "<IPython.core.display.Markdown object>"
      ]
     },
     "metadata": {},
     "output_type": "display_data"
    },
    {
     "data": {
      "text/markdown": [
       "#### Cells are identified by barcode (e.g.: AAACCCACAACAAGAT-1, AAACCCACAACGGCTC-1, AAACCCACACAGAAGC-1, etc)"
      ],
      "text/plain": [
       "<IPython.core.display.Markdown object>"
      ]
     },
     "metadata": {},
     "output_type": "display_data"
    },
    {
     "data": {
      "text/markdown": [
       "#### The number -1, -2, etc, represent the chromium well"
      ],
      "text/plain": [
       "<IPython.core.display.Markdown object>"
      ]
     },
     "metadata": {},
     "output_type": "display_data"
    },
    {
     "data": {
      "text/markdown": [
       "#### A chromium well refers to the microfluidic chambers in the 10x Genomics Chromium Controller that are used to encapsulate single cells and barcoded beads into individual droplets, enabling high-throughput single-cell genomics. These wells play a key role in isolating single cells, capturing their RNA, and associating it with unique barcodes for sequencing."
      ],
      "text/plain": [
       "<IPython.core.display.Markdown object>"
      ]
     },
     "metadata": {},
     "output_type": "display_data"
    }
   ],
   "source": [
    "display(md(f\"\"\"#### Raw data has {adata.shape[1]} genes and {adata.shape[0]} cells\"\"\"))\n",
    "display(md(f\"\"\"#### Cells are identified by barcode (e.g.: {', '.join(adata.obs.index[:3])}, etc)\"\"\"))\n",
    "display(md(f\"\"\"#### The number -1, -2, etc, represent the chromium well\"\"\"))\n",
    "display(md(f\"\"\"#### A chromium well refers to the microfluidic chambers in the 10x Genomics Chromium Controller that are used to encapsulate single cells and barcoded beads into individual droplets, enabling high-throughput single-cell genomics. These wells play a key role in isolating single cells, capturing their RNA, and associating it with unique barcodes for sequencing.\"\"\"))"
   ]
  },
  {
   "cell_type": "code",
   "execution_count": 6,
   "metadata": {},
   "outputs": [
    {
     "data": {
      "text/markdown": [
       "##### Gene Expression: Represent the transcriptomic profile of the cells (the genes that are being expressed)"
      ],
      "text/plain": [
       "<IPython.core.display.Markdown object>"
      ]
     },
     "metadata": {},
     "output_type": "display_data"
    },
    {
     "data": {
      "text/markdown": [
       "##### CRISPR Guide Capture: Which sgRNAs (and therefore which genes) were targeted in each cell."
      ],
      "text/plain": [
       "<IPython.core.display.Markdown object>"
      ]
     },
     "metadata": {},
     "output_type": "display_data"
    },
    {
     "data": {
      "text/html": [
       "<div>\n",
       "<style scoped>\n",
       "    .dataframe tbody tr th:only-of-type {\n",
       "        vertical-align: middle;\n",
       "    }\n",
       "\n",
       "    .dataframe tbody tr th {\n",
       "        vertical-align: top;\n",
       "    }\n",
       "\n",
       "    .dataframe thead th {\n",
       "        text-align: right;\n",
       "    }\n",
       "</style>\n",
       "<table border=\"1\" class=\"dataframe\">\n",
       "  <thead>\n",
       "    <tr style=\"text-align: right;\">\n",
       "      <th></th>\n",
       "      <th>gene_ids</th>\n",
       "      <th>feature_types</th>\n",
       "    </tr>\n",
       "  </thead>\n",
       "  <tbody>\n",
       "    <tr>\n",
       "      <th>MIR1302-2HG</th>\n",
       "      <td>ENSG00000243485</td>\n",
       "      <td>Gene Expression</td>\n",
       "    </tr>\n",
       "    <tr>\n",
       "      <th>FAM138A</th>\n",
       "      <td>ENSG00000237613</td>\n",
       "      <td>Gene Expression</td>\n",
       "    </tr>\n",
       "    <tr>\n",
       "      <th>OR4F5</th>\n",
       "      <td>ENSG00000186092</td>\n",
       "      <td>Gene Expression</td>\n",
       "    </tr>\n",
       "    <tr>\n",
       "      <th>AL627309.1</th>\n",
       "      <td>ENSG00000238009</td>\n",
       "      <td>Gene Expression</td>\n",
       "    </tr>\n",
       "    <tr>\n",
       "      <th>AL627309.3</th>\n",
       "      <td>ENSG00000239945</td>\n",
       "      <td>Gene Expression</td>\n",
       "    </tr>\n",
       "    <tr>\n",
       "      <th>...</th>\n",
       "      <td>...</td>\n",
       "      <td>...</td>\n",
       "    </tr>\n",
       "    <tr>\n",
       "      <th>TRIM21-2</th>\n",
       "      <td>TRIM21-2</td>\n",
       "      <td>CRISPR Guide Capture</td>\n",
       "    </tr>\n",
       "    <tr>\n",
       "      <th>VAV1-1</th>\n",
       "      <td>VAV1-1</td>\n",
       "      <td>CRISPR Guide Capture</td>\n",
       "    </tr>\n",
       "    <tr>\n",
       "      <th>VAV1-2</th>\n",
       "      <td>VAV1-2</td>\n",
       "      <td>CRISPR Guide Capture</td>\n",
       "    </tr>\n",
       "    <tr>\n",
       "      <th>WT1-1</th>\n",
       "      <td>WT1-1</td>\n",
       "      <td>CRISPR Guide Capture</td>\n",
       "    </tr>\n",
       "    <tr>\n",
       "      <th>WT1-2</th>\n",
       "      <td>WT1-2</td>\n",
       "      <td>CRISPR Guide Capture</td>\n",
       "    </tr>\n",
       "  </tbody>\n",
       "</table>\n",
       "<p>36755 rows × 2 columns</p>\n",
       "</div>"
      ],
      "text/plain": [
       "                    gene_ids         feature_types\n",
       "MIR1302-2HG  ENSG00000243485       Gene Expression\n",
       "FAM138A      ENSG00000237613       Gene Expression\n",
       "OR4F5        ENSG00000186092       Gene Expression\n",
       "AL627309.1   ENSG00000238009       Gene Expression\n",
       "AL627309.3   ENSG00000239945       Gene Expression\n",
       "...                      ...                   ...\n",
       "TRIM21-2            TRIM21-2  CRISPR Guide Capture\n",
       "VAV1-1                VAV1-1  CRISPR Guide Capture\n",
       "VAV1-2                VAV1-2  CRISPR Guide Capture\n",
       "WT1-1                  WT1-1  CRISPR Guide Capture\n",
       "WT1-2                  WT1-2  CRISPR Guide Capture\n",
       "\n",
       "[36755 rows x 2 columns]"
      ]
     },
     "metadata": {},
     "output_type": "display_data"
    },
    {
     "data": {
      "text/html": [
       "<div>\n",
       "<style scoped>\n",
       "    .dataframe tbody tr th:only-of-type {\n",
       "        vertical-align: middle;\n",
       "    }\n",
       "\n",
       "    .dataframe tbody tr th {\n",
       "        vertical-align: top;\n",
       "    }\n",
       "\n",
       "    .dataframe thead th {\n",
       "        text-align: right;\n",
       "    }\n",
       "</style>\n",
       "<table border=\"1\" class=\"dataframe\">\n",
       "  <thead>\n",
       "    <tr style=\"text-align: right;\">\n",
       "      <th></th>\n",
       "      <th>feature_types</th>\n",
       "      <th>count</th>\n",
       "    </tr>\n",
       "  </thead>\n",
       "  <tbody>\n",
       "    <tr>\n",
       "      <th>0</th>\n",
       "      <td>Gene Expression</td>\n",
       "      <td>36601</td>\n",
       "    </tr>\n",
       "    <tr>\n",
       "      <th>1</th>\n",
       "      <td>CRISPR Guide Capture</td>\n",
       "      <td>154</td>\n",
       "    </tr>\n",
       "  </tbody>\n",
       "</table>\n",
       "</div>"
      ],
      "text/plain": [
       "          feature_types  count\n",
       "0       Gene Expression  36601\n",
       "1  CRISPR Guide Capture    154"
      ]
     },
     "metadata": {},
     "output_type": "display_data"
    }
   ],
   "source": [
    "display(md(\"##### Gene Expression: Represent the transcriptomic profile of the cells (the genes that are being expressed)\"))\n",
    "display(md(\"##### CRISPR Guide Capture: Which sgRNAs (and therefore which genes) were targeted in each cell.\"))\n",
    "display(adata.var)\n",
    "display(adata.var.feature_types.value_counts().reset_index())\n"
   ]
  },
  {
   "cell_type": "markdown",
   "metadata": {},
   "source": [
    "### Cell Metadata\n",
    "#### From the CRISPR Guide Capture columns we can get the cell metada\n",
    "reference: 01_build_metadata_table_for_guide_calls"
   ]
  },
  {
   "cell_type": "code",
   "execution_count": 7,
   "metadata": {},
   "outputs": [
    {
     "data": {
      "text/html": [
       "<div>\n",
       "<style scoped>\n",
       "    .dataframe tbody tr th:only-of-type {\n",
       "        vertical-align: middle;\n",
       "    }\n",
       "\n",
       "    .dataframe tbody tr th {\n",
       "        vertical-align: top;\n",
       "    }\n",
       "\n",
       "    .dataframe thead th {\n",
       "        text-align: right;\n",
       "    }\n",
       "</style>\n",
       "<table border=\"1\" class=\"dataframe\">\n",
       "  <thead>\n",
       "    <tr style=\"text-align: right;\">\n",
       "      <th></th>\n",
       "      <th>condition</th>\n",
       "      <th>crispr</th>\n",
       "      <th>guide_id</th>\n",
       "      <th>gene</th>\n",
       "      <th>well</th>\n",
       "    </tr>\n",
       "    <tr>\n",
       "      <th>cell_barcode</th>\n",
       "      <th></th>\n",
       "      <th></th>\n",
       "      <th></th>\n",
       "      <th></th>\n",
       "      <th></th>\n",
       "    </tr>\n",
       "  </thead>\n",
       "  <tbody>\n",
       "    <tr>\n",
       "      <th>GGGAGATAGACCGTTT-1</th>\n",
       "      <td>Nostim</td>\n",
       "      <td>perturbed</td>\n",
       "      <td>ABCB10-1</td>\n",
       "      <td>ABCB10</td>\n",
       "      <td>1</td>\n",
       "    </tr>\n",
       "    <tr>\n",
       "      <th>GACGCTGCATTGTCGA-1</th>\n",
       "      <td>Nostim</td>\n",
       "      <td>perturbed</td>\n",
       "      <td>ABCB10-1</td>\n",
       "      <td>ABCB10</td>\n",
       "      <td>1</td>\n",
       "    </tr>\n",
       "    <tr>\n",
       "      <th>TTAATCCTCGTGCACG-1</th>\n",
       "      <td>Nostim</td>\n",
       "      <td>perturbed</td>\n",
       "      <td>ABCB10-1</td>\n",
       "      <td>ABCB10</td>\n",
       "      <td>1</td>\n",
       "    </tr>\n",
       "    <tr>\n",
       "      <th>ACACGCGTCGACCTAA-1</th>\n",
       "      <td>Nostim</td>\n",
       "      <td>perturbed</td>\n",
       "      <td>ABCB10-1</td>\n",
       "      <td>ABCB10</td>\n",
       "      <td>1</td>\n",
       "    </tr>\n",
       "    <tr>\n",
       "      <th>CATCCACCATCGATGT-1</th>\n",
       "      <td>Nostim</td>\n",
       "      <td>perturbed</td>\n",
       "      <td>ABCB10-1</td>\n",
       "      <td>ABCB10</td>\n",
       "      <td>1</td>\n",
       "    </tr>\n",
       "    <tr>\n",
       "      <th>...</th>\n",
       "      <td>...</td>\n",
       "      <td>...</td>\n",
       "      <td>...</td>\n",
       "      <td>...</td>\n",
       "      <td>...</td>\n",
       "    </tr>\n",
       "    <tr>\n",
       "      <th>GTTGTCCGTGGTTTAC-8</th>\n",
       "      <td>Stim</td>\n",
       "      <td>perturbed</td>\n",
       "      <td>WT1-2</td>\n",
       "      <td>WT1</td>\n",
       "      <td>8</td>\n",
       "    </tr>\n",
       "    <tr>\n",
       "      <th>GTCTAGAAGGCACTCC-8</th>\n",
       "      <td>Stim</td>\n",
       "      <td>perturbed</td>\n",
       "      <td>WT1-2</td>\n",
       "      <td>WT1</td>\n",
       "      <td>8</td>\n",
       "    </tr>\n",
       "    <tr>\n",
       "      <th>TCCTAATCATACACCA-8</th>\n",
       "      <td>Stim</td>\n",
       "      <td>perturbed</td>\n",
       "      <td>WT1-2</td>\n",
       "      <td>WT1</td>\n",
       "      <td>8</td>\n",
       "    </tr>\n",
       "    <tr>\n",
       "      <th>AGACCCGGTATTGACC-8</th>\n",
       "      <td>Stim</td>\n",
       "      <td>perturbed</td>\n",
       "      <td>WT1-2</td>\n",
       "      <td>WT1</td>\n",
       "      <td>8</td>\n",
       "    </tr>\n",
       "    <tr>\n",
       "      <th>AGTGTTGTCATTTACC-8</th>\n",
       "      <td>Stim</td>\n",
       "      <td>perturbed</td>\n",
       "      <td>WT1-2</td>\n",
       "      <td>WT1</td>\n",
       "      <td>8</td>\n",
       "    </tr>\n",
       "  </tbody>\n",
       "</table>\n",
       "<p>60657 rows × 5 columns</p>\n",
       "</div>"
      ],
      "text/plain": [
       "                   condition     crispr  guide_id    gene well\n",
       "cell_barcode                                                  \n",
       "GGGAGATAGACCGTTT-1    Nostim  perturbed  ABCB10-1  ABCB10    1\n",
       "GACGCTGCATTGTCGA-1    Nostim  perturbed  ABCB10-1  ABCB10    1\n",
       "TTAATCCTCGTGCACG-1    Nostim  perturbed  ABCB10-1  ABCB10    1\n",
       "ACACGCGTCGACCTAA-1    Nostim  perturbed  ABCB10-1  ABCB10    1\n",
       "CATCCACCATCGATGT-1    Nostim  perturbed  ABCB10-1  ABCB10    1\n",
       "...                      ...        ...       ...     ...  ...\n",
       "GTTGTCCGTGGTTTAC-8      Stim  perturbed     WT1-2     WT1    8\n",
       "GTCTAGAAGGCACTCC-8      Stim  perturbed     WT1-2     WT1    8\n",
       "TCCTAATCATACACCA-8      Stim  perturbed     WT1-2     WT1    8\n",
       "AGACCCGGTATTGACC-8      Stim  perturbed     WT1-2     WT1    8\n",
       "AGTGTTGTCATTTACC-8      Stim  perturbed     WT1-2     WT1    8\n",
       "\n",
       "[60657 rows x 5 columns]"
      ]
     },
     "execution_count": 7,
     "metadata": {},
     "output_type": "execute_result"
    }
   ],
   "source": [
    "df_cell_metadata = pd.read_csv('../data/cell_metadata.txt', sep='\\t')\n",
    "df_cell_metadata['well'] = df_cell_metadata['cell_barcode'].apply(lambda x: x[-1:])\n",
    "df_cell_metadata = df_cell_metadata.set_index('cell_barcode')\n",
    "df_cell_metadata"
   ]
  },
  {
   "cell_type": "code",
   "execution_count": 8,
   "metadata": {},
   "outputs": [
    {
     "data": {
      "text/markdown": [
       "#### Perturbed vs No TARGET"
      ],
      "text/plain": [
       "<IPython.core.display.Markdown object>"
      ]
     },
     "metadata": {},
     "output_type": "display_data"
    },
    {
     "data": {
      "text/html": [
       "<div>\n",
       "<style scoped>\n",
       "    .dataframe tbody tr th:only-of-type {\n",
       "        vertical-align: middle;\n",
       "    }\n",
       "\n",
       "    .dataframe tbody tr th {\n",
       "        vertical-align: top;\n",
       "    }\n",
       "\n",
       "    .dataframe thead th {\n",
       "        text-align: right;\n",
       "    }\n",
       "</style>\n",
       "<table border=\"1\" class=\"dataframe\">\n",
       "  <thead>\n",
       "    <tr style=\"text-align: right;\">\n",
       "      <th></th>\n",
       "      <th>crispr</th>\n",
       "      <th>count</th>\n",
       "    </tr>\n",
       "  </thead>\n",
       "  <tbody>\n",
       "    <tr>\n",
       "      <th>0</th>\n",
       "      <td>perturbed</td>\n",
       "      <td>56774</td>\n",
       "    </tr>\n",
       "    <tr>\n",
       "      <th>1</th>\n",
       "      <td>NT</td>\n",
       "      <td>3883</td>\n",
       "    </tr>\n",
       "  </tbody>\n",
       "</table>\n",
       "</div>"
      ],
      "text/plain": [
       "      crispr  count\n",
       "0  perturbed  56774\n",
       "1         NT   3883"
      ]
     },
     "metadata": {},
     "output_type": "display_data"
    },
    {
     "data": {
      "text/markdown": [
       "# ~56,000 cels"
      ],
      "text/plain": [
       "<IPython.core.display.Markdown object>"
      ]
     },
     "metadata": {},
     "output_type": "display_data"
    }
   ],
   "source": [
    "display(md(\"#### Perturbed vs No TARGET\"))\n",
    "display(df_cell_metadata['crispr'].value_counts().reset_index())\n",
    "display(md('# ~56,000 cels'))"
   ]
  },
  {
   "cell_type": "code",
   "execution_count": 9,
   "metadata": {},
   "outputs": [
    {
     "data": {
      "text/markdown": [
       "#### Total cells per guide id"
      ],
      "text/plain": [
       "<IPython.core.display.Markdown object>"
      ]
     },
     "metadata": {},
     "output_type": "display_data"
    },
    {
     "data": {
      "text/html": [
       "<div>\n",
       "<style scoped>\n",
       "    .dataframe tbody tr th:only-of-type {\n",
       "        vertical-align: middle;\n",
       "    }\n",
       "\n",
       "    .dataframe tbody tr th {\n",
       "        vertical-align: top;\n",
       "    }\n",
       "\n",
       "    .dataframe thead th {\n",
       "        text-align: right;\n",
       "    }\n",
       "</style>\n",
       "<table border=\"1\" class=\"dataframe\">\n",
       "  <thead>\n",
       "    <tr style=\"text-align: right;\">\n",
       "      <th></th>\n",
       "      <th>guide_id</th>\n",
       "      <th>count</th>\n",
       "    </tr>\n",
       "  </thead>\n",
       "  <tbody>\n",
       "    <tr>\n",
       "      <th>0</th>\n",
       "      <td>TRAF3IP2-1</td>\n",
       "      <td>1056</td>\n",
       "    </tr>\n",
       "    <tr>\n",
       "      <th>1</th>\n",
       "      <td>LAT2-2</td>\n",
       "      <td>983</td>\n",
       "    </tr>\n",
       "    <tr>\n",
       "      <th>2</th>\n",
       "      <td>EMP3-1</td>\n",
       "      <td>931</td>\n",
       "    </tr>\n",
       "    <tr>\n",
       "      <th>3</th>\n",
       "      <td>CD27-1</td>\n",
       "      <td>849</td>\n",
       "    </tr>\n",
       "    <tr>\n",
       "      <th>4</th>\n",
       "      <td>TNFRSF1B-2</td>\n",
       "      <td>797</td>\n",
       "    </tr>\n",
       "    <tr>\n",
       "      <th>...</th>\n",
       "      <td>...</td>\n",
       "      <td>...</td>\n",
       "    </tr>\n",
       "    <tr>\n",
       "      <th>149</th>\n",
       "      <td>PRDM1-2</td>\n",
       "      <td>20</td>\n",
       "    </tr>\n",
       "    <tr>\n",
       "      <th>150</th>\n",
       "      <td>IRX4-2</td>\n",
       "      <td>15</td>\n",
       "    </tr>\n",
       "    <tr>\n",
       "      <th>151</th>\n",
       "      <td>DEF6-2</td>\n",
       "      <td>11</td>\n",
       "    </tr>\n",
       "    <tr>\n",
       "      <th>152</th>\n",
       "      <td>IRX4-1</td>\n",
       "      <td>2</td>\n",
       "    </tr>\n",
       "    <tr>\n",
       "      <th>153</th>\n",
       "      <td>TCF7-1</td>\n",
       "      <td>1</td>\n",
       "    </tr>\n",
       "  </tbody>\n",
       "</table>\n",
       "<p>154 rows × 2 columns</p>\n",
       "</div>"
      ],
      "text/plain": [
       "       guide_id  count\n",
       "0    TRAF3IP2-1   1056\n",
       "1        LAT2-2    983\n",
       "2        EMP3-1    931\n",
       "3        CD27-1    849\n",
       "4    TNFRSF1B-2    797\n",
       "..          ...    ...\n",
       "149     PRDM1-2     20\n",
       "150      IRX4-2     15\n",
       "151      DEF6-2     11\n",
       "152      IRX4-1      2\n",
       "153      TCF7-1      1\n",
       "\n",
       "[154 rows x 2 columns]"
      ]
     },
     "metadata": {},
     "output_type": "display_data"
    },
    {
     "data": {
      "text/markdown": [
       "# ~150,000 sgRNAs"
      ],
      "text/plain": [
       "<IPython.core.display.Markdown object>"
      ]
     },
     "metadata": {},
     "output_type": "display_data"
    }
   ],
   "source": [
    "display(md(\"#### Total cells per guide id\"))\n",
    "display(df_cell_metadata[['guide_id']].value_counts().reset_index())\n",
    "display(md('# ~150,000 sgRNAs'))\n",
    "# Un sgRNA activa solo una porción del gen"
   ]
  },
  {
   "cell_type": "code",
   "execution_count": 10,
   "metadata": {},
   "outputs": [
    {
     "data": {
      "text/markdown": [
       "#### Total cells per gene"
      ],
      "text/plain": [
       "<IPython.core.display.Markdown object>"
      ]
     },
     "metadata": {},
     "output_type": "display_data"
    },
    {
     "data": {
      "text/html": [
       "<div>\n",
       "<style scoped>\n",
       "    .dataframe tbody tr th:only-of-type {\n",
       "        vertical-align: middle;\n",
       "    }\n",
       "\n",
       "    .dataframe tbody tr th {\n",
       "        vertical-align: top;\n",
       "    }\n",
       "\n",
       "    .dataframe thead th {\n",
       "        text-align: right;\n",
       "    }\n",
       "</style>\n",
       "<table border=\"1\" class=\"dataframe\">\n",
       "  <thead>\n",
       "    <tr style=\"text-align: right;\">\n",
       "      <th></th>\n",
       "      <th>gene</th>\n",
       "      <th>count</th>\n",
       "    </tr>\n",
       "  </thead>\n",
       "  <tbody>\n",
       "    <tr>\n",
       "      <th>0</th>\n",
       "      <td>NO-TARGET</td>\n",
       "      <td>3883</td>\n",
       "    </tr>\n",
       "    <tr>\n",
       "      <th>1</th>\n",
       "      <td>EMP3</td>\n",
       "      <td>1588</td>\n",
       "    </tr>\n",
       "    <tr>\n",
       "      <th>2</th>\n",
       "      <td>TRAF3IP2</td>\n",
       "      <td>1564</td>\n",
       "    </tr>\n",
       "    <tr>\n",
       "      <th>3</th>\n",
       "      <td>CD27</td>\n",
       "      <td>1455</td>\n",
       "    </tr>\n",
       "    <tr>\n",
       "      <th>4</th>\n",
       "      <td>TNFRSF1B</td>\n",
       "      <td>1344</td>\n",
       "    </tr>\n",
       "    <tr>\n",
       "      <th>...</th>\n",
       "      <td>...</td>\n",
       "      <td>...</td>\n",
       "    </tr>\n",
       "    <tr>\n",
       "      <th>69</th>\n",
       "      <td>EOMES</td>\n",
       "      <td>262</td>\n",
       "    </tr>\n",
       "    <tr>\n",
       "      <th>70</th>\n",
       "      <td>HELZ2</td>\n",
       "      <td>128</td>\n",
       "    </tr>\n",
       "    <tr>\n",
       "      <th>71</th>\n",
       "      <td>TCF7</td>\n",
       "      <td>115</td>\n",
       "    </tr>\n",
       "    <tr>\n",
       "      <th>72</th>\n",
       "      <td>PRDM1</td>\n",
       "      <td>40</td>\n",
       "    </tr>\n",
       "    <tr>\n",
       "      <th>73</th>\n",
       "      <td>IRX4</td>\n",
       "      <td>17</td>\n",
       "    </tr>\n",
       "  </tbody>\n",
       "</table>\n",
       "<p>74 rows × 2 columns</p>\n",
       "</div>"
      ],
      "text/plain": [
       "         gene  count\n",
       "0   NO-TARGET   3883\n",
       "1        EMP3   1588\n",
       "2    TRAF3IP2   1564\n",
       "3        CD27   1455\n",
       "4    TNFRSF1B   1344\n",
       "..        ...    ...\n",
       "69      EOMES    262\n",
       "70      HELZ2    128\n",
       "71       TCF7    115\n",
       "72      PRDM1     40\n",
       "73       IRX4     17\n",
       "\n",
       "[74 rows x 2 columns]"
      ]
     },
     "metadata": {},
     "output_type": "display_data"
    },
    {
     "data": {
      "text/markdown": [
       "# ~70 genes"
      ],
      "text/plain": [
       "<IPython.core.display.Markdown object>"
      ]
     },
     "metadata": {},
     "output_type": "display_data"
    }
   ],
   "source": [
    "display(md(\"#### Total cells per gene\"))\n",
    "display(df_cell_metadata['gene'].value_counts().reset_index())\n",
    "display(md('# ~70 genes'))"
   ]
  },
  {
   "cell_type": "code",
   "execution_count": 11,
   "metadata": {},
   "outputs": [
    {
     "data": {
      "text/markdown": [
       "#### Total cells per gene per guide_id"
      ],
      "text/plain": [
       "<IPython.core.display.Markdown object>"
      ]
     },
     "metadata": {},
     "output_type": "display_data"
    },
    {
     "data": {
      "text/html": [
       "<div>\n",
       "<style scoped>\n",
       "    .dataframe tbody tr th:only-of-type {\n",
       "        vertical-align: middle;\n",
       "    }\n",
       "\n",
       "    .dataframe tbody tr th {\n",
       "        vertical-align: top;\n",
       "    }\n",
       "\n",
       "    .dataframe thead tr th {\n",
       "        text-align: left;\n",
       "    }\n",
       "</style>\n",
       "<table border=\"1\" class=\"dataframe\">\n",
       "  <thead>\n",
       "    <tr>\n",
       "      <th></th>\n",
       "      <th colspan=\"2\" halign=\"left\">ABCB10</th>\n",
       "      <th colspan=\"2\" halign=\"left\">AKAP12</th>\n",
       "      <th colspan=\"2\" halign=\"left\">ALX4</th>\n",
       "      <th colspan=\"2\" halign=\"left\">APOBEC3C</th>\n",
       "    </tr>\n",
       "    <tr>\n",
       "      <th></th>\n",
       "      <th>guide_id</th>\n",
       "      <th>count</th>\n",
       "      <th>guide_id</th>\n",
       "      <th>count</th>\n",
       "      <th>guide_id</th>\n",
       "      <th>count</th>\n",
       "      <th>guide_id</th>\n",
       "      <th>count</th>\n",
       "    </tr>\n",
       "  </thead>\n",
       "  <tbody>\n",
       "    <tr>\n",
       "      <th>0</th>\n",
       "      <td>ABCB10-2</td>\n",
       "      <td>208</td>\n",
       "      <td>AKAP12-1</td>\n",
       "      <td>255</td>\n",
       "      <td>ALX4-1</td>\n",
       "      <td>380</td>\n",
       "      <td>APOBEC3C-1</td>\n",
       "      <td>486</td>\n",
       "    </tr>\n",
       "    <tr>\n",
       "      <th>1</th>\n",
       "      <td>ABCB10-1</td>\n",
       "      <td>189</td>\n",
       "      <td>AKAP12-2</td>\n",
       "      <td>104</td>\n",
       "      <td>ALX4-2</td>\n",
       "      <td>132</td>\n",
       "      <td>APOBEC3C-2</td>\n",
       "      <td>168</td>\n",
       "    </tr>\n",
       "  </tbody>\n",
       "</table>\n",
       "</div>"
      ],
      "text/plain": [
       "     ABCB10          AKAP12           ALX4          APOBEC3C      \n",
       "   guide_id count  guide_id count guide_id count    guide_id count\n",
       "0  ABCB10-2   208  AKAP12-1   255   ALX4-1   380  APOBEC3C-1   486\n",
       "1  ABCB10-1   189  AKAP12-2   104   ALX4-2   132  APOBEC3C-2   168"
      ]
     },
     "execution_count": 11,
     "metadata": {},
     "output_type": "execute_result"
    }
   ],
   "source": [
    "display(md(\"#### Total cells per gene per guide_id\"))\n",
    "genes = df_cell_metadata['gene'].unique()[:4]\n",
    "'WT1'\n",
    "all_genes_count = []\n",
    "for gene in genes:\n",
    "    gene_count_df = df_cell_metadata[df_cell_metadata['gene'] == gene].value_counts('guide_id').reset_index()\n",
    "    gene_count_df = add_top_column(gene_count_df, gene)\n",
    "    all_genes_count.append(gene_count_df)\n",
    "pd.concat(all_genes_count, axis=1)"
   ]
  },
  {
   "cell_type": "code",
   "execution_count": 12,
   "metadata": {},
   "outputs": [
    {
     "data": {
      "text/markdown": [
       "#### Total cells per well"
      ],
      "text/plain": [
       "<IPython.core.display.Markdown object>"
      ]
     },
     "metadata": {},
     "output_type": "display_data"
    },
    {
     "data": {
      "text/html": [
       "<div>\n",
       "<style scoped>\n",
       "    .dataframe tbody tr th:only-of-type {\n",
       "        vertical-align: middle;\n",
       "    }\n",
       "\n",
       "    .dataframe tbody tr th {\n",
       "        vertical-align: top;\n",
       "    }\n",
       "\n",
       "    .dataframe thead th {\n",
       "        text-align: right;\n",
       "    }\n",
       "</style>\n",
       "<table border=\"1\" class=\"dataframe\">\n",
       "  <thead>\n",
       "    <tr style=\"text-align: right;\">\n",
       "      <th></th>\n",
       "      <th>well</th>\n",
       "      <th>count</th>\n",
       "    </tr>\n",
       "  </thead>\n",
       "  <tbody>\n",
       "    <tr>\n",
       "      <th>0</th>\n",
       "      <td>2</td>\n",
       "      <td>7838</td>\n",
       "    </tr>\n",
       "    <tr>\n",
       "      <th>1</th>\n",
       "      <td>3</td>\n",
       "      <td>7750</td>\n",
       "    </tr>\n",
       "    <tr>\n",
       "      <th>2</th>\n",
       "      <td>1</td>\n",
       "      <td>7742</td>\n",
       "    </tr>\n",
       "    <tr>\n",
       "      <th>3</th>\n",
       "      <td>5</td>\n",
       "      <td>7642</td>\n",
       "    </tr>\n",
       "    <tr>\n",
       "      <th>4</th>\n",
       "      <td>7</td>\n",
       "      <td>7502</td>\n",
       "    </tr>\n",
       "    <tr>\n",
       "      <th>5</th>\n",
       "      <td>4</td>\n",
       "      <td>7491</td>\n",
       "    </tr>\n",
       "    <tr>\n",
       "      <th>6</th>\n",
       "      <td>6</td>\n",
       "      <td>7430</td>\n",
       "    </tr>\n",
       "    <tr>\n",
       "      <th>7</th>\n",
       "      <td>8</td>\n",
       "      <td>7262</td>\n",
       "    </tr>\n",
       "  </tbody>\n",
       "</table>\n",
       "</div>"
      ],
      "text/plain": [
       "  well  count\n",
       "0    2   7838\n",
       "1    3   7750\n",
       "2    1   7742\n",
       "3    5   7642\n",
       "4    7   7502\n",
       "5    4   7491\n",
       "6    6   7430\n",
       "7    8   7262"
      ]
     },
     "execution_count": 12,
     "metadata": {},
     "output_type": "execute_result"
    }
   ],
   "source": [
    "display(md(\"#### Total cells per well\"))\n",
    "df_cell_metadata.value_counts('well').reset_index()"
   ]
  },
  {
   "cell_type": "code",
   "execution_count": 13,
   "metadata": {},
   "outputs": [
    {
     "data": {
      "text/html": [
       "<div>\n",
       "<style scoped>\n",
       "    .dataframe tbody tr th:only-of-type {\n",
       "        vertical-align: middle;\n",
       "    }\n",
       "\n",
       "    .dataframe tbody tr th {\n",
       "        vertical-align: top;\n",
       "    }\n",
       "\n",
       "    .dataframe thead th {\n",
       "        text-align: right;\n",
       "    }\n",
       "</style>\n",
       "<table border=\"1\" class=\"dataframe\">\n",
       "  <thead>\n",
       "    <tr style=\"text-align: right;\">\n",
       "      <th></th>\n",
       "      <th>ABCB10-1</th>\n",
       "      <th>ABCB10-2</th>\n",
       "      <th>AKAP12-1</th>\n",
       "      <th>AKAP12-2</th>\n",
       "      <th>ALX4-1</th>\n",
       "      <th>ALX4-2</th>\n",
       "      <th>APOBEC3C-1</th>\n",
       "      <th>APOBEC3C-2</th>\n",
       "      <th>APOBEC3D-1</th>\n",
       "      <th>APOBEC3D-2</th>\n",
       "    </tr>\n",
       "    <tr>\n",
       "      <th>well</th>\n",
       "      <th></th>\n",
       "      <th></th>\n",
       "      <th></th>\n",
       "      <th></th>\n",
       "      <th></th>\n",
       "      <th></th>\n",
       "      <th></th>\n",
       "      <th></th>\n",
       "      <th></th>\n",
       "      <th></th>\n",
       "    </tr>\n",
       "  </thead>\n",
       "  <tbody>\n",
       "    <tr>\n",
       "      <th>0</th>\n",
       "      <td>29</td>\n",
       "      <td>37</td>\n",
       "      <td>45</td>\n",
       "      <td>19</td>\n",
       "      <td>62</td>\n",
       "      <td>26</td>\n",
       "      <td>71</td>\n",
       "      <td>27</td>\n",
       "      <td>40</td>\n",
       "      <td>57</td>\n",
       "    </tr>\n",
       "    <tr>\n",
       "      <th>1</th>\n",
       "      <td>28</td>\n",
       "      <td>34</td>\n",
       "      <td>39</td>\n",
       "      <td>18</td>\n",
       "      <td>51</td>\n",
       "      <td>20</td>\n",
       "      <td>70</td>\n",
       "      <td>26</td>\n",
       "      <td>34</td>\n",
       "      <td>50</td>\n",
       "    </tr>\n",
       "    <tr>\n",
       "      <th>2</th>\n",
       "      <td>24</td>\n",
       "      <td>33</td>\n",
       "      <td>34</td>\n",
       "      <td>14</td>\n",
       "      <td>48</td>\n",
       "      <td>19</td>\n",
       "      <td>62</td>\n",
       "      <td>25</td>\n",
       "      <td>31</td>\n",
       "      <td>47</td>\n",
       "    </tr>\n",
       "    <tr>\n",
       "      <th>3</th>\n",
       "      <td>24</td>\n",
       "      <td>27</td>\n",
       "      <td>33</td>\n",
       "      <td>12</td>\n",
       "      <td>47</td>\n",
       "      <td>16</td>\n",
       "      <td>62</td>\n",
       "      <td>21</td>\n",
       "      <td>30</td>\n",
       "      <td>45</td>\n",
       "    </tr>\n",
       "    <tr>\n",
       "      <th>4</th>\n",
       "      <td>24</td>\n",
       "      <td>26</td>\n",
       "      <td>30</td>\n",
       "      <td>12</td>\n",
       "      <td>47</td>\n",
       "      <td>15</td>\n",
       "      <td>59</td>\n",
       "      <td>19</td>\n",
       "      <td>28</td>\n",
       "      <td>43</td>\n",
       "    </tr>\n",
       "    <tr>\n",
       "      <th>5</th>\n",
       "      <td>20</td>\n",
       "      <td>22</td>\n",
       "      <td>26</td>\n",
       "      <td>12</td>\n",
       "      <td>44</td>\n",
       "      <td>14</td>\n",
       "      <td>57</td>\n",
       "      <td>18</td>\n",
       "      <td>28</td>\n",
       "      <td>42</td>\n",
       "    </tr>\n",
       "    <tr>\n",
       "      <th>6</th>\n",
       "      <td>20</td>\n",
       "      <td>15</td>\n",
       "      <td>24</td>\n",
       "      <td>10</td>\n",
       "      <td>41</td>\n",
       "      <td>12</td>\n",
       "      <td>54</td>\n",
       "      <td>18</td>\n",
       "      <td>27</td>\n",
       "      <td>41</td>\n",
       "    </tr>\n",
       "    <tr>\n",
       "      <th>7</th>\n",
       "      <td>20</td>\n",
       "      <td>14</td>\n",
       "      <td>24</td>\n",
       "      <td>7</td>\n",
       "      <td>40</td>\n",
       "      <td>10</td>\n",
       "      <td>51</td>\n",
       "      <td>14</td>\n",
       "      <td>25</td>\n",
       "      <td>34</td>\n",
       "    </tr>\n",
       "  </tbody>\n",
       "</table>\n",
       "</div>"
      ],
      "text/plain": [
       "      ABCB10-1  ABCB10-2  AKAP12-1  AKAP12-2  ALX4-1  ALX4-2  APOBEC3C-1  \\\n",
       "well                                                                       \n",
       "0           29        37        45        19      62      26          71   \n",
       "1           28        34        39        18      51      20          70   \n",
       "2           24        33        34        14      48      19          62   \n",
       "3           24        27        33        12      47      16          62   \n",
       "4           24        26        30        12      47      15          59   \n",
       "5           20        22        26        12      44      14          57   \n",
       "6           20        15        24        10      41      12          54   \n",
       "7           20        14        24         7      40      10          51   \n",
       "\n",
       "      APOBEC3C-2  APOBEC3D-1  APOBEC3D-2  \n",
       "well                                      \n",
       "0             27          40          57  \n",
       "1             26          34          50  \n",
       "2             25          31          47  \n",
       "3             21          30          45  \n",
       "4             19          28          43  \n",
       "5             18          28          42  \n",
       "6             18          27          41  \n",
       "7             14          25          34  "
      ]
     },
     "execution_count": 13,
     "metadata": {},
     "output_type": "execute_result"
    }
   ],
   "source": [
    "# sgRNAs are uniformly distributed per chromium well\n",
    "sgRNAs = df_cell_metadata['guide_id'].unique()[:10]\n",
    "sgRNAcounts = pd.DataFrame([{'well': i} for i in range(8)])\n",
    "for sgRNA in sgRNAs:\n",
    "    sgRNAcounts[sgRNA] = df_cell_metadata[df_cell_metadata['guide_id'] == sgRNA].value_counts('well').reset_index().sort_values('well')['count']\n",
    "sgRNAcounts.set_index('well')"
   ]
  },
  {
   "cell_type": "markdown",
   "metadata": {},
   "source": [
    "### Merge and clean data"
   ]
  },
  {
   "cell_type": "code",
   "execution_count": 14,
   "metadata": {},
   "outputs": [
    {
     "data": {
      "text/html": [
       "<div>\n",
       "<style scoped>\n",
       "    .dataframe tbody tr th:only-of-type {\n",
       "        vertical-align: middle;\n",
       "    }\n",
       "\n",
       "    .dataframe tbody tr th {\n",
       "        vertical-align: top;\n",
       "    }\n",
       "\n",
       "    .dataframe thead th {\n",
       "        text-align: right;\n",
       "    }\n",
       "</style>\n",
       "<table border=\"1\" class=\"dataframe\">\n",
       "  <thead>\n",
       "    <tr style=\"text-align: right;\">\n",
       "      <th></th>\n",
       "      <th>condition</th>\n",
       "      <th>crispr</th>\n",
       "      <th>guide_id</th>\n",
       "      <th>gene</th>\n",
       "      <th>well</th>\n",
       "    </tr>\n",
       "  </thead>\n",
       "  <tbody>\n",
       "    <tr>\n",
       "      <th>AAACCCACAACAAGAT-1</th>\n",
       "      <td>Nostim</td>\n",
       "      <td>perturbed</td>\n",
       "      <td>PLCG2-2</td>\n",
       "      <td>PLCG2</td>\n",
       "      <td>1</td>\n",
       "    </tr>\n",
       "    <tr>\n",
       "      <th>AAACCCACAACGGCTC-1</th>\n",
       "      <td>Nostim</td>\n",
       "      <td>perturbed</td>\n",
       "      <td>HELZ2-1</td>\n",
       "      <td>HELZ2</td>\n",
       "      <td>1</td>\n",
       "    </tr>\n",
       "    <tr>\n",
       "      <th>AAACCCACACAGAAGC-1</th>\n",
       "      <td>NaN</td>\n",
       "      <td>NaN</td>\n",
       "      <td>NaN</td>\n",
       "      <td>NaN</td>\n",
       "      <td>NaN</td>\n",
       "    </tr>\n",
       "    <tr>\n",
       "      <th>AAACCCACACCCTGTT-1</th>\n",
       "      <td>Nostim</td>\n",
       "      <td>perturbed</td>\n",
       "      <td>OTUD7B-1</td>\n",
       "      <td>OTUD7B</td>\n",
       "      <td>1</td>\n",
       "    </tr>\n",
       "    <tr>\n",
       "      <th>AAACCCACACTATGTG-1</th>\n",
       "      <td>Nostim</td>\n",
       "      <td>perturbed</td>\n",
       "      <td>CD247-1</td>\n",
       "      <td>CD247</td>\n",
       "      <td>1</td>\n",
       "    </tr>\n",
       "    <tr>\n",
       "      <th>...</th>\n",
       "      <td>...</td>\n",
       "      <td>...</td>\n",
       "      <td>...</td>\n",
       "      <td>...</td>\n",
       "      <td>...</td>\n",
       "    </tr>\n",
       "    <tr>\n",
       "      <th>TTTGTTGGTCCAGCCA-8</th>\n",
       "      <td>NaN</td>\n",
       "      <td>NaN</td>\n",
       "      <td>NaN</td>\n",
       "      <td>NaN</td>\n",
       "      <td>NaN</td>\n",
       "    </tr>\n",
       "    <tr>\n",
       "      <th>TTTGTTGGTCCCACGA-8</th>\n",
       "      <td>NaN</td>\n",
       "      <td>NaN</td>\n",
       "      <td>NaN</td>\n",
       "      <td>NaN</td>\n",
       "      <td>NaN</td>\n",
       "    </tr>\n",
       "    <tr>\n",
       "      <th>TTTGTTGGTGAGTGAC-8</th>\n",
       "      <td>Stim</td>\n",
       "      <td>perturbed</td>\n",
       "      <td>IL2RB-1</td>\n",
       "      <td>IL2RB</td>\n",
       "      <td>8</td>\n",
       "    </tr>\n",
       "    <tr>\n",
       "      <th>TTTGTTGGTGCAAGAC-8</th>\n",
       "      <td>NaN</td>\n",
       "      <td>NaN</td>\n",
       "      <td>NaN</td>\n",
       "      <td>NaN</td>\n",
       "      <td>NaN</td>\n",
       "    </tr>\n",
       "    <tr>\n",
       "      <th>TTTGTTGTCTTCGCTG-8</th>\n",
       "      <td>NaN</td>\n",
       "      <td>NaN</td>\n",
       "      <td>NaN</td>\n",
       "      <td>NaN</td>\n",
       "      <td>NaN</td>\n",
       "    </tr>\n",
       "  </tbody>\n",
       "</table>\n",
       "<p>103805 rows × 5 columns</p>\n",
       "</div>"
      ],
      "text/plain": [
       "                   condition     crispr  guide_id    gene well\n",
       "AAACCCACAACAAGAT-1    Nostim  perturbed   PLCG2-2   PLCG2    1\n",
       "AAACCCACAACGGCTC-1    Nostim  perturbed   HELZ2-1   HELZ2    1\n",
       "AAACCCACACAGAAGC-1       NaN        NaN       NaN     NaN  NaN\n",
       "AAACCCACACCCTGTT-1    Nostim  perturbed  OTUD7B-1  OTUD7B    1\n",
       "AAACCCACACTATGTG-1    Nostim  perturbed   CD247-1   CD247    1\n",
       "...                      ...        ...       ...     ...  ...\n",
       "TTTGTTGGTCCAGCCA-8       NaN        NaN       NaN     NaN  NaN\n",
       "TTTGTTGGTCCCACGA-8       NaN        NaN       NaN     NaN  NaN\n",
       "TTTGTTGGTGAGTGAC-8      Stim  perturbed   IL2RB-1   IL2RB    8\n",
       "TTTGTTGGTGCAAGAC-8       NaN        NaN       NaN     NaN  NaN\n",
       "TTTGTTGTCTTCGCTG-8       NaN        NaN       NaN     NaN  NaN\n",
       "\n",
       "[103805 rows x 5 columns]"
      ]
     },
     "execution_count": 14,
     "metadata": {},
     "output_type": "execute_result"
    }
   ],
   "source": [
    "# Merge cell metadata with matrix\n",
    "adata.obs = adata.obs.merge(df_cell_metadata, left_index=True, right_index=True, how='left')\n",
    "adata.obs"
   ]
  },
  {
   "cell_type": "code",
   "execution_count": 32,
   "metadata": {},
   "outputs": [
    {
     "data": {
      "text/plain": [
       "{'NO-TARGET'}"
      ]
     },
     "execution_count": 32,
     "metadata": {},
     "output_type": "execute_result"
    }
   ],
   "source": [
    "genes = df_cell_metadata['gene'].unique()\n",
    "set(genes) - set(adata.var.index)"
   ]
  },
  {
   "cell_type": "code",
   "execution_count": 41,
   "metadata": {},
   "outputs": [
    {
     "data": {
      "text/plain": [
       "['NO-TARGET-1',\n",
       " 'NO-TARGET-2',\n",
       " 'NO-TARGET-3',\n",
       " 'NO-TARGET-4',\n",
       " 'NO-TARGET-5',\n",
       " 'NO-TARGET-6',\n",
       " 'NO-TARGET-7',\n",
       " 'NO-TARGET-8']"
      ]
     },
     "execution_count": 41,
     "metadata": {},
     "output_type": "execute_result"
    }
   ],
   "source": [
    "[g for g in adata.var.index if 'targ' in g.lower()]"
   ]
  },
  {
   "cell_type": "code",
   "execution_count": 52,
   "metadata": {},
   "outputs": [
    {
     "data": {
      "text/markdown": [
       "#### Data merged"
      ],
      "text/plain": [
       "<IPython.core.display.Markdown object>"
      ]
     },
     "metadata": {},
     "output_type": "display_data"
    },
    {
     "data": {
      "text/plain": [
       "View of AnnData object with n_obs × n_vars = 60657 × 73\n",
       "    obs: 'condition', 'crispr', 'guide_id', 'gene', 'well'\n",
       "    var: 'gene_ids', 'feature_types'"
      ]
     },
     "metadata": {},
     "output_type": "display_data"
    },
    {
     "data": {
      "text/markdown": [
       "#### Around 4000 cells have crispr NT"
      ],
      "text/plain": [
       "<IPython.core.display.Markdown object>"
      ]
     },
     "metadata": {},
     "output_type": "display_data"
    }
   ],
   "source": [
    "display(md(\"#### Data merged\"))\n",
    "adata_filtered = adata[~adata.obs['guide_id'].isna(), adata.var.index.isin(genes)]\n",
    "display(adata_filtered)\n",
    "display(md(\"#### Around 4000 cells have crispr NT\"))"
   ]
  },
  {
   "cell_type": "code",
   "execution_count": 45,
   "metadata": {},
   "outputs": [],
   "source": [
    "sc.write('../data_out/matrix_filtered.h5ad', adata_filtered)"
   ]
  },
  {
   "cell_type": "code",
   "execution_count": 54,
   "metadata": {},
   "outputs": [
    {
     "data": {
      "text/plain": [
       "3883"
      ]
     },
     "execution_count": 54,
     "metadata": {},
     "output_type": "execute_result"
    }
   ],
   "source": [
    "# Around 4000 cells have crispr NT\n",
    "(adata_filtered.obs['crispr'] == 'NT').sum()"
   ]
  },
  {
   "cell_type": "markdown",
   "metadata": {},
   "source": []
  }
 ],
 "metadata": {
  "kernelspec": {
   "display_name": "cellrep",
   "language": "python",
   "name": "python3"
  },
  "language_info": {
   "codemirror_mode": {
    "name": "ipython",
    "version": 3
   },
   "file_extension": ".py",
   "mimetype": "text/x-python",
   "name": "python",
   "nbconvert_exporter": "python",
   "pygments_lexer": "ipython3",
   "version": "3.12.5"
  }
 },
 "nbformat": 4,
 "nbformat_minor": 2
}
